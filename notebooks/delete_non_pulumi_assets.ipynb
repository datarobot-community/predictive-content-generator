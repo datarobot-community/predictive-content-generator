{
 "cells": [
  {
   "cell_type": "markdown",
   "metadata": {},
   "source": [
    "# Deleting Assets\n",
    "\n",
    "To clean up te resources that are not included in the pulumi stack, first select the stack, and then run this notebook.\n",
    "\n",
    "This notebook has to be run *after* running `pulumi down` has completed.   "
   ]
  },
  {
   "cell_type": "code",
   "execution_count": null,
   "metadata": {},
   "outputs": [],
   "source": [
    "import os\n",
    "import sys\n",
    "from pathlib import Path\n",
    "\n",
    "import datarobot as dr\n",
    "from dotenv import load_dotenv\n",
    "\n",
    "# The notebook should be executed from the project root directory\n",
    "if \"_correct_path\" not in locals():\n",
    "    os.chdir(\"..\")\n",
    "    sys.path.append(\".\")\n",
    "    print(f\"changed dir to {Path('.').resolve()})\")\n",
    "    _correct_path = True\n",
    "load_dotenv()\n",
    "client = dr.Client()"
   ]
  },
  {
   "cell_type": "code",
   "execution_count": null,
   "metadata": {},
   "outputs": [],
   "source": [
    "import yaml\n",
    "\n",
    "from infra.settings_main import model_training_output_infra_settings\n",
    "from nbo.schema import AppInfraSettings\n",
    "\n",
    "with open(model_training_output_infra_settings) as f:\n",
    "    app_infra_settings = AppInfraSettings.model_validate(yaml.safe_load(f))"
   ]
  },
  {
   "cell_type": "code",
   "execution_count": null,
   "metadata": {},
   "outputs": [],
   "source": [
    "registered_model = dr.RegisteredModel.list(\n",
    "    search=app_infra_settings.registered_model_name\n",
    ")[0]\n",
    "dr.RegisteredModel.archive(registered_model.id)\n",
    "dr.Project.get(app_infra_settings.project_id).delete()\n",
    "dr.Dataset.delete(app_infra_settings.scoring_dataset_id)\n",
    "dr.UseCase.delete(app_infra_settings.use_case_id)"
   ]
  },
  {
   "cell_type": "code",
   "execution_count": null,
   "metadata": {},
   "outputs": [],
   "source": []
  }
 ],
 "metadata": {
  "kernelspec": {
   "display_name": ".venv",
   "language": "python",
   "name": "python3"
  },
  "language_info": {
   "codemirror_mode": {
    "name": "ipython",
    "version": 3
   },
   "file_extension": ".py",
   "mimetype": "text/x-python",
   "name": "python",
   "nbconvert_exporter": "python",
   "pygments_lexer": "ipython3",
   "version": "3.12.4"
  }
 },
 "nbformat": 4,
 "nbformat_minor": 2
}
